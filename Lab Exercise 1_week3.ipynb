{
 "cells": [
  {
   "cell_type": "markdown",
   "id": "heard-tennessee",
   "metadata": {},
   "source": [
    "## Lab Exercise 1"
   ]
  },
  {
   "cell_type": "markdown",
   "id": "brazilian-former",
   "metadata": {},
   "source": [
    "### You need to print the notebook as PDF and submit it on moodle\n",
    "#### The deadline of submission is the end of your w3 tutorial"
   ]
  },
  {
   "cell_type": "markdown",
   "id": "bulgarian-capture",
   "metadata": {},
   "source": [
    "## Q1\n",
    "Define a variable x and assign a value of 10 to it.\n",
    "Define a variable y and assign a value of 11 to it.\n",
    "Subtract the value from x to y and store the result in z.\n",
    "print the value of z.\n"
   ]
  },
  {
   "cell_type": "code",
   "execution_count": 1,
   "id": "insured-fetish",
   "metadata": {},
   "outputs": [],
   "source": [
    "# Question 1\n",
    "# type your code below\n",
    "\n"
   ]
  },
  {
   "cell_type": "markdown",
   "id": "sunrise-gambling",
   "metadata": {},
   "source": [
    "**Question 2**\n",
    "\n",
    "a=[2,3,4,5]\n",
    "\n",
    "replace the value of 4 with 22\n",
    "print the new list"
   ]
  },
  {
   "cell_type": "code",
   "execution_count": 2,
   "id": "offshore-trustee",
   "metadata": {},
   "outputs": [],
   "source": [
    "# Question 2\n",
    "# Type your code\n",
    "\n"
   ]
  },
  {
   "cell_type": "markdown",
   "id": "silver-accessory",
   "metadata": {},
   "source": [
    "**Question 3**\n",
    "\n",
    "x=3.66 \n",
    "a) covert x into integer and assign to a\n",
    "b) covert x into string and assign to b"
   ]
  },
  {
   "cell_type": "code",
   "execution_count": 3,
   "id": "moved-offering",
   "metadata": {},
   "outputs": [],
   "source": [
    "## Type your code for Q(a) and (b) below"
   ]
  },
  {
   "cell_type": "code",
   "execution_count": 4,
   "id": "german-shoot",
   "metadata": {
    "scrolled": true
   },
   "outputs": [],
   "source": [
    "\n",
    "    \n"
   ]
  }
 ],
 "metadata": {
  "kernelspec": {
   "display_name": "Python 3 (ipykernel)",
   "language": "python",
   "name": "python3"
  },
  "language_info": {
   "codemirror_mode": {
    "name": "ipython",
    "version": 3
   },
   "file_extension": ".py",
   "mimetype": "text/x-python",
   "name": "python",
   "nbconvert_exporter": "python",
   "pygments_lexer": "ipython3",
   "version": "3.11.5"
  }
 },
 "nbformat": 4,
 "nbformat_minor": 5
}
