{
 "cells": [
  {
   "cell_type": "code",
   "execution_count": 1,
   "id": "d756de9b",
   "metadata": {},
   "outputs": [
    {
     "name": "stdout",
     "output_type": "stream",
     "text": [
      "        Name  Assignment 1  Assignment 2  Final Exam  total grade\n",
      "0      Peter            60            60          60   60.0     C\n",
      "1        Joe            75            80          50   66.5     C\n",
      "2       Kris            95           100          95   96.5     A\n",
      "3        Amy            90            85          95   90.5     A\n",
      "4     Alfred            35            70          85   65.5     C\n",
      "5        Jan            65            80          64   69.1     C\n",
      "6       Bill            80            60          70   70.0     B\n",
      "7  Christine            90            85          72   81.3     A\n",
      "8        Roy            75            70          90   79.5     B\n",
      "9     Phoebe            70            60          80   71.0     B\n"
     ]
    }
   ],
   "source": [
    "import pandas as pd\n",
    "\n",
    "# Sample data\n",
    "data = {\n",
    "    'Name': ['Peter', 'Joe', 'Kris', 'Amy', 'Alfred', 'Jan', 'Bill', 'Christine', 'Roy', 'Phoebe'],\n",
    "    'Assignment 1': [60, 75, 95, 90, 35, 65, 80, 90, 75, 70],\n",
    "    'Assignment 2': [60, 80, 100, 85, 70, 80, 60, 85, 70, 60],\n",
    "    'Final Exam': [60, 50, 95, 95, 85, 64, 70, 72, 90, 80],\n",
    "    'total': [60.0, 66.5, 96.5, 90.5, 65.5, 69.1, 70.0, 81.3, 79.5, 71.0]\n",
    "}\n",
    "\n",
    "# Create DataFrame\n",
    "df = pd.DataFrame(data)\n",
    "\n",
    "# Define grading function\n",
    "def grade(marks):\n",
    "    if marks < 40:\n",
    "        return 'F'\n",
    "    elif marks < 60:\n",
    "        return 'D'\n",
    "    elif marks < 70:\n",
    "        return 'C'\n",
    "    elif marks < 80:\n",
    "        return 'B'\n",
    "    else:\n",
    "        return 'A'\n",
    "\n",
    "# Add 'grade' column\n",
    "df['grade'] = df['total'].apply(grade)\n",
    "\n",
    "# Display the updated DataFrame\n",
    "print(df)"
   ]
  },
  {
   "cell_type": "code",
   "execution_count": null,
   "id": "0468b6da",
   "metadata": {},
   "outputs": [],
   "source": []
  }
 ],
 "metadata": {
  "kernelspec": {
   "display_name": "Python 3 (ipykernel)",
   "language": "python",
   "name": "python3"
  },
  "language_info": {
   "codemirror_mode": {
    "name": "ipython",
    "version": 3
   },
   "file_extension": ".py",
   "mimetype": "text/x-python",
   "name": "python",
   "nbconvert_exporter": "python",
   "pygments_lexer": "ipython3",
   "version": "3.11.5"
  }
 },
 "nbformat": 4,
 "nbformat_minor": 5
}
